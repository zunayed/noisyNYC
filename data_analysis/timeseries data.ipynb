{
 "metadata": {
  "name": ""
 },
 "nbformat": 3,
 "nbformat_minor": 0,
 "worksheets": [
  {
   "cells": [
    {
     "cell_type": "code",
     "collapsed": false,
     "input": [
      "import fetchJSONfromSocrata\n",
      "import pandas as pd\n",
      "import matplotlib\n",
      "from datetime import date\n",
      "from pprint import pprint\n",
      "import numpy\n",
      "from dateutil.parser import parse\n",
      "from operator import attrgetter"
     ],
     "language": "python",
     "metadata": {},
     "outputs": [],
     "prompt_number": 1
    },
    {
     "cell_type": "heading",
     "level": 1,
     "metadata": {},
     "source": [
      "Configuration"
     ]
    },
    {
     "cell_type": "code",
     "collapsed": false,
     "input": [
      "pd.set_option('display.line_width', 4000)\n",
      "pd.set_option('display.max_columns', 100)"
     ],
     "language": "python",
     "metadata": {},
     "outputs": [],
     "prompt_number": 4
    },
    {
     "cell_type": "heading",
     "level": 1,
     "metadata": {},
     "source": [
      "Load and Clean Data"
     ]
    },
    {
     "cell_type": "code",
     "collapsed": false,
     "input": [
      "df"
     ],
     "language": "python",
     "metadata": {},
     "outputs": [
      {
       "html": [
        "<pre>\n",
        "&lt;class 'pandas.core.frame.DataFrame'&gt;\n",
        "Int64Index: 110908 entries, 0 to 110907\n",
        "Data columns (total 29 columns):\n",
        "Unique Key                        110908  non-null values\n",
        "Created Date                      110908  non-null values\n",
        "Closed Date                       92187  non-null values\n",
        "Agency                            110908  non-null values\n",
        "Agency Name                       110908  non-null values\n",
        "Complaint Type                    110908  non-null values\n",
        "Descriptor                        110908  non-null values\n",
        "Location Type                     73778  non-null values\n",
        "Incident Zip                      110908  non-null values\n",
        "Incident Address                  86304  non-null values\n",
        "Street Name                       86304  non-null values\n",
        "Cross Street 1                    85248  non-null values\n",
        "Cross Street 2                    85241  non-null values\n",
        "Intersection Street 1             24373  non-null values\n",
        "Intersection Street 2             24373  non-null values\n",
        "Address Type                      110908  non-null values\n",
        "City                              110908  non-null values\n",
        "Landmark                          220  non-null values\n",
        "Facility Type                     110908  non-null values\n",
        "Status                            110908  non-null values\n",
        "Due Date                          73645  non-null values\n",
        "Resolution Action Updated Date    92541  non-null values\n",
        "Community Board                   110908  non-null values\n",
        "Borough                           110908  non-null values\n",
        "X Coordinate (State Plane)        110326  non-null values\n",
        "Y Coordinate (State Plane)        110326  non-null values\n",
        "Latitude                          110326  non-null values\n",
        "Longitude                         110326  non-null values\n",
        "Location                          110326  non-null values\n",
        "dtypes: float64(4), int64(2), object(23)\n",
        "</pre>"
       ],
       "metadata": {},
       "output_type": "pyout",
       "prompt_number": 6,
       "text": [
        "<class 'pandas.core.frame.DataFrame'>\n",
        "Int64Index: 110908 entries, 0 to 110907\n",
        "Data columns (total 29 columns):\n",
        "Unique Key                        110908  non-null values\n",
        "Created Date                      110908  non-null values\n",
        "Closed Date                       92187  non-null values\n",
        "Agency                            110908  non-null values\n",
        "Agency Name                       110908  non-null values\n",
        "Complaint Type                    110908  non-null values\n",
        "Descriptor                        110908  non-null values\n",
        "Location Type                     73778  non-null values\n",
        "Incident Zip                      110908  non-null values\n",
        "Incident Address                  86304  non-null values\n",
        "Street Name                       86304  non-null values\n",
        "Cross Street 1                    85248  non-null values\n",
        "Cross Street 2                    85241  non-null values\n",
        "Intersection Street 1             24373  non-null values\n",
        "Intersection Street 2             24373  non-null values\n",
        "Address Type                      110908  non-null values\n",
        "City                              110908  non-null values\n",
        "Landmark                          220  non-null values\n",
        "Facility Type                     110908  non-null values\n",
        "Status                            110908  non-null values\n",
        "Due Date                          73645  non-null values\n",
        "Resolution Action Updated Date    92541  non-null values\n",
        "Community Board                   110908  non-null values\n",
        "Borough                           110908  non-null values\n",
        "X Coordinate (State Plane)        110326  non-null values\n",
        "Y Coordinate (State Plane)        110326  non-null values\n",
        "Latitude                          110326  non-null values\n",
        "Longitude                         110326  non-null values\n",
        "Location                          110326  non-null values\n",
        "dtypes: float64(4), int64(2), object(23)"
       ]
      }
     ],
     "prompt_number": 6
    },
    {
     "cell_type": "code",
     "collapsed": false,
     "input": [
      "from dateutil.parser import parse\n",
      "from datetime import datetime\n",
      "\n",
      "bigf = \"2013all.csv\"\n",
      "df = pd.read_csv(bigf)\n",
      "df = df[['Created Date', 'Incident Zip', 'Latitude', 'Longitude', 'Complaint Type']]\n",
      "\n",
      "# cols = ['Created Date', 'Incident Zip']\n",
      "# df = pd.read_csv(fname, usecols=cols, parse_dates=['Created Date'])\n",
      "# df = df.set_i.ndex('Created Date')"
     ],
     "language": "python",
     "metadata": {},
     "outputs": [],
     "prompt_number": 7
    },
    {
     "cell_type": "heading",
     "level": 1,
     "metadata": {},
     "source": [
      "Munging"
     ]
    },
    {
     "cell_type": "code",
     "collapsed": false,
     "input": [
      "# parse date and create date index.\n",
      "df['Created Date'] = df['Created Date'].apply(parse)\n",
      "df.index = df['Created Date']\n",
      "\n",
      "# drop na values, replace string zip code values, and filter for only 5 char zip codes.\n",
      "# df = df.dropna(subset=['incident_zip'])\n",
      "# df['incident_zip'].replace(r\"\\D+\", \"0\", inplace=True)\n",
      "df = df[df['Incident Zip'].astype(str).apply(len) == 5]"
     ],
     "language": "python",
     "metadata": {},
     "outputs": [],
     "prompt_number": 23
    },
    {
     "cell_type": "code",
     "collapsed": false,
     "input": [
      "noisedf = df[df['complaint_type'].apply(lambda x: x[:5] == \"Noise\")]"
     ],
     "language": "python",
     "metadata": {},
     "outputs": [],
     "prompt_number": 441
    },
    {
     "cell_type": "code",
     "collapsed": false,
     "input": [
      "df.groupby([\"Incident Zip\", attrgetter('weekday'), attrgetter('hour')])['Complaint Type'].count().to_csv(\"data.csv\")"
     ],
     "language": "python",
     "metadata": {},
     "outputs": [],
     "prompt_number": 26
    },
    {
     "cell_type": "heading",
     "level": 1,
     "metadata": {},
     "source": [
      "Data By Period"
     ]
    },
    {
     "cell_type": "code",
     "collapsed": false,
     "input": [
      "def shape_data(df):\n",
      "    def finalgroup(df):\n",
      "        return df.groupby([attrgetter('weekday'), attrgetter('hour')]).count()['complaint_type'].to_dict()\n",
      "    \n",
      "    def subgroup(df):\n",
      "        return df.groupby('incident_zip').apply(finalgroup).to_dict()\n",
      "\n",
      "    return df.groupby('complaint_type', as_index=True, group_keys=True).apply(subgroup)"
     ],
     "language": "python",
     "metadata": {},
     "outputs": [],
     "prompt_number": 418
    },
    {
     "cell_type": "code",
     "collapsed": false,
     "input": [
      "['"
     ],
     "language": "python",
     "metadata": {},
     "outputs": [
      {
       "metadata": {},
       "output_type": "pyout",
       "prompt_number": 423,
       "text": [
        "complaint_type\n",
        "Animal Abuse                      {u'11412': {(3, 19): 1}, u'11378': {(3, 7): 1}...\n",
        "Animal in a Park                  {u'10312': {(3, 13): 1}, u'10038': {(4, 1): 2}...\n",
        "Asbestos                           {u'11203': {(3, 12): 1}, u'10003': {(3, 15): 1}}\n",
        "Bike Rack Condition                                        {u'11226': {(3, 16): 1}}\n",
        "Blocked Driveway                  {u'10451': {(3, 19): 1}, u'10457': {(3, 7): 1,...\n",
        "Bridge Condition                  {u'10044': {(3, 10): 1}, u'10002': {(3, 17): 1...\n",
        "Broken Muni Meter                 {u'10001': {(3, 15): 1}, u'10002': {(3, 18): 1...\n",
        "City Vehicle Placard Complaint    {u'11201': {(3, 9): 1}, u'10024': {(3, 11): 1}...\n",
        "Construction                      {u'11372': {(3, 16): 1}, u'11358': {(3, 16): 1...\n",
        "Consumer Complaint                {u'10001': {(3, 11): 1, (3, 13): 1}, u'10475':...\n",
        "DOF Parking - Tax Exemption         {u'10069': {(3, 14): 1}, u'11223': {(3, 8): 1}}\n",
        "DPR Internal                      {u'11423': {(3, 16): 1}, u'11234': {(3, 9): 1}...\n",
        "Damaged Tree                      {u'10306': {(3, 13): 1}, u'10304': {(3, 20): 1...\n",
        "Dead Tree                         {u'11414': {(3, 9): 1}, u'11385': {(3, 8): 1},...\n",
        "Derelict Vehicle                  {u'10301': {(3, 10): 1, (3, 12): 1}, u'10473':...\n",
        "EAP Inspection - F59              {u'10012': {(3, 16): 1}, u'10019': {(3, 11): 1...\n",
        "Fire Alarm - Reinspection          {u'10281': {(3, 10): 1}, u'10029': {(3, 14): 1}}\n",
        "Fire Safety Director - F58        {u'10007': {(3, 19): 1}, u'10036': {(3, 11): 1...\n",
        "Food Establishment                {u'11101': {(3, 11): 1}, u'10075': {(3, 14): 1...\n",
        "Food Poisoning                    {u'10004': {(3, 17): 1}, u'11369': {(3, 15): 1...\n",
        "For Hire Vehicle Complaint        {u'11214': {(3, 14): 1}, u'10017': {(3, 10): 1...\n",
        "Found Property                                             {u'11216': {(3, 13): 1}}\n",
        "Highway Condition                 {u'11214': {(3, 8): 1, (3, 15): 1, (3, 10): 2,...\n",
        "Homeless Encampment                                        {u'10021': {(3, 20): 1}}\n",
        "Homeless Person Assistance          {u'11210': {(3, 7): 1}, u'10031': {(3, 16): 1}}\n",
        "Illegal Animal Kept as Pet                                 {u'11357': {(3, 11): 1}}\n",
        "Illegal Parking                   {u'10065': {(3, 14): 1}, u'10452': {(3, 10): 1...\n",
        "Illegal Tree Damage               {u'11235': {(3, 14): 1}, u'11214': {(3, 16): 1...\n",
        "Indoor Air Quality                {u'10040': {(3, 15): 1, (3, 17): 1}, u'11374':...\n",
        "Indoor Sewage                     {u'10026': {(3, 13): 1}, u'11230': {(3, 20): 1...\n",
        "Maintenance or Facility           {u'10461': {(3, 10): 1}, u'11201': {(3, 16): 2...\n",
        "Mold                                                       {u'10003': {(3, 15): 2}}\n",
        "Municipal Parking Facility                                 {u'11236': {(3, 17): 1}}\n",
        "Noise - Commercial                {u'11237': {(3, 7): 1}, u'10003': {(3, 0): 1, ...\n",
        "Noise - Helicopter                                          {u'10467': {(3, 6): 1}}\n",
        "Noise - Street/Sidewalk           {u'10007': {(3, 14): 1}, u'11249': {(3, 4): 1}...\n",
        "Noise - Vehicle                   {u'10025': {(3, 10): 1}, u'11375': {(3, 14): 1...\n",
        "Non-Residential Heat              {u'11238': {(3, 10): 1}, u'11213': {(3, 3): 3}...\n",
        "Overgrown Tree/Branches           {u'11413': {(3, 8): 1}, u'11414': {(3, 13): 2}...\n",
        "Rodent                            {u'11237': {(3, 15): 1, (3, 1): 1, (3, 12): 1}...\n",
        "Root/Sewer/Sidewalk Condition     {u'11412': {(3, 11): 2}, u'11358': {(3, 15): 1...\n",
        "SCRIE                             {u'11238': {(3, 13): 2}, u'11230': {(3, 10): 1...\n",
        "School Maintenance                {u'11224': {(3, 10): 1}, u'11379': {(3, 2): 1}...\n",
        "Sidewalk Condition                {u'11238': {(3, 10): 1}, u'11418': {(3, 15): 1...\n",
        "Smoking                           {u'10036': {(3, 10): 1}, u'11221': {(3, 6): 1}...\n",
        "Street Condition                  {u'10007': {(3, 9): 1}, u'10001': {(3, 8): 1, ...\n",
        "Street Sign - Damaged             {u'10019': {(3, 9): 1}, u'11357': {(3, 12): 1}...\n",
        "Street Sign - Dangling            {u'11413': {(3, 12): 1}, u'11385': {(3, 11): 1...\n",
        "Street Sign - Missing             {u'11378': {(3, 19): 1}, u'10305': {(3, 5): 1}...\n",
        "Taxi Complaint                    {u'10004': {(3, 20): 2}, u'10007': {(3, 16): 1...\n",
        "Traffic                           {u'11101': {(3, 16): 1}, u'10470': {(3, 10): 1...\n",
        "Unleashed Dog                                              {u'10314': {(3, 13): 1}}\n",
        "Unsanitary Animal Pvt Property    {u'11229': {(3, 15): 1}, u'11214': {(3, 9): 1}...\n",
        "Vending                           {u'10005': {(3, 8): 1}, u'10007': {(3, 15): 1}...\n",
        "Violation of Park Rules                                    {u'11432': {(3, 14): 1}}\n",
        "Length: 55, dtype: object"
       ]
      }
     ],
     "prompt_number": 423
    },
    {
     "cell_type": "code",
     "collapsed": false,
     "input": [
      "import json\n",
      "with open('testdata.json', 'wb') as f:\n",
      "    json.dump(final, f)"
     ],
     "language": "python",
     "metadata": {},
     "outputs": [
      {
       "ename": "TypeError",
       "evalue": "key (3, 15) is not a string",
       "output_type": "pyerr",
       "traceback": [
        "\u001b[0;31m---------------------------------------------------------------------------\u001b[0m\n\u001b[0;31mTypeError\u001b[0m                                 Traceback (most recent call last)",
        "\u001b[0;32m<ipython-input-422-60c838dbac11>\u001b[0m in \u001b[0;36m<module>\u001b[0;34m()\u001b[0m\n\u001b[1;32m      1\u001b[0m \u001b[0;32mimport\u001b[0m \u001b[0mjson\u001b[0m\u001b[0;34m\u001b[0m\u001b[0m\n\u001b[1;32m      2\u001b[0m \u001b[0;32mwith\u001b[0m \u001b[0mopen\u001b[0m\u001b[0;34m(\u001b[0m\u001b[0;34m'testdata.json'\u001b[0m\u001b[0;34m,\u001b[0m \u001b[0;34m'wb'\u001b[0m\u001b[0;34m)\u001b[0m \u001b[0;32mas\u001b[0m \u001b[0mf\u001b[0m\u001b[0;34m:\u001b[0m\u001b[0;34m\u001b[0m\u001b[0m\n\u001b[0;32m----> 3\u001b[0;31m     \u001b[0mjson\u001b[0m\u001b[0;34m.\u001b[0m\u001b[0mdump\u001b[0m\u001b[0;34m(\u001b[0m\u001b[0mfinal\u001b[0m\u001b[0;34m,\u001b[0m \u001b[0mf\u001b[0m\u001b[0;34m)\u001b[0m\u001b[0;34m\u001b[0m\u001b[0m\n\u001b[0m",
        "\u001b[0;32m/usr/local/Cellar/python/2.7.6/Frameworks/Python.framework/Versions/2.7/lib/python2.7/json/__init__.pyc\u001b[0m in \u001b[0;36mdump\u001b[0;34m(obj, fp, skipkeys, ensure_ascii, check_circular, allow_nan, cls, indent, separators, encoding, default, sort_keys, **kw)\u001b[0m\n\u001b[1;32m    187\u001b[0m     \u001b[0;31m# could accelerate with writelines in some versions of Python, at\u001b[0m\u001b[0;34m\u001b[0m\u001b[0;34m\u001b[0m\u001b[0m\n\u001b[1;32m    188\u001b[0m     \u001b[0;31m# a debuggability cost\u001b[0m\u001b[0;34m\u001b[0m\u001b[0;34m\u001b[0m\u001b[0m\n\u001b[0;32m--> 189\u001b[0;31m     \u001b[0;32mfor\u001b[0m \u001b[0mchunk\u001b[0m \u001b[0;32min\u001b[0m \u001b[0miterable\u001b[0m\u001b[0;34m:\u001b[0m\u001b[0;34m\u001b[0m\u001b[0m\n\u001b[0m\u001b[1;32m    190\u001b[0m         \u001b[0mfp\u001b[0m\u001b[0;34m.\u001b[0m\u001b[0mwrite\u001b[0m\u001b[0;34m(\u001b[0m\u001b[0mchunk\u001b[0m\u001b[0;34m)\u001b[0m\u001b[0;34m\u001b[0m\u001b[0m\n\u001b[1;32m    191\u001b[0m \u001b[0;34m\u001b[0m\u001b[0m\n",
        "\u001b[0;32m/usr/local/Cellar/python/2.7.6/Frameworks/Python.framework/Versions/2.7/lib/python2.7/json/encoder.pyc\u001b[0m in \u001b[0;36m_iterencode\u001b[0;34m(o, _current_indent_level)\u001b[0m\n\u001b[1;32m    432\u001b[0m                 \u001b[0;32myield\u001b[0m \u001b[0mchunk\u001b[0m\u001b[0;34m\u001b[0m\u001b[0m\n\u001b[1;32m    433\u001b[0m         \u001b[0;32melif\u001b[0m \u001b[0misinstance\u001b[0m\u001b[0;34m(\u001b[0m\u001b[0mo\u001b[0m\u001b[0;34m,\u001b[0m \u001b[0mdict\u001b[0m\u001b[0;34m)\u001b[0m\u001b[0;34m:\u001b[0m\u001b[0;34m\u001b[0m\u001b[0m\n\u001b[0;32m--> 434\u001b[0;31m             \u001b[0;32mfor\u001b[0m \u001b[0mchunk\u001b[0m \u001b[0;32min\u001b[0m \u001b[0m_iterencode_dict\u001b[0m\u001b[0;34m(\u001b[0m\u001b[0mo\u001b[0m\u001b[0;34m,\u001b[0m \u001b[0m_current_indent_level\u001b[0m\u001b[0;34m)\u001b[0m\u001b[0;34m:\u001b[0m\u001b[0;34m\u001b[0m\u001b[0m\n\u001b[0m\u001b[1;32m    435\u001b[0m                 \u001b[0;32myield\u001b[0m \u001b[0mchunk\u001b[0m\u001b[0;34m\u001b[0m\u001b[0m\n\u001b[1;32m    436\u001b[0m         \u001b[0;32melse\u001b[0m\u001b[0;34m:\u001b[0m\u001b[0;34m\u001b[0m\u001b[0m\n",
        "\u001b[0;32m/usr/local/Cellar/python/2.7.6/Frameworks/Python.framework/Versions/2.7/lib/python2.7/json/encoder.pyc\u001b[0m in \u001b[0;36m_iterencode_dict\u001b[0;34m(dct, _current_indent_level)\u001b[0m\n\u001b[1;32m    406\u001b[0m                 \u001b[0;32melse\u001b[0m\u001b[0;34m:\u001b[0m\u001b[0;34m\u001b[0m\u001b[0m\n\u001b[1;32m    407\u001b[0m                     \u001b[0mchunks\u001b[0m \u001b[0;34m=\u001b[0m \u001b[0m_iterencode\u001b[0m\u001b[0;34m(\u001b[0m\u001b[0mvalue\u001b[0m\u001b[0;34m,\u001b[0m \u001b[0m_current_indent_level\u001b[0m\u001b[0;34m)\u001b[0m\u001b[0;34m\u001b[0m\u001b[0m\n\u001b[0;32m--> 408\u001b[0;31m                 \u001b[0;32mfor\u001b[0m \u001b[0mchunk\u001b[0m \u001b[0;32min\u001b[0m \u001b[0mchunks\u001b[0m\u001b[0;34m:\u001b[0m\u001b[0;34m\u001b[0m\u001b[0m\n\u001b[0m\u001b[1;32m    409\u001b[0m                     \u001b[0;32myield\u001b[0m \u001b[0mchunk\u001b[0m\u001b[0;34m\u001b[0m\u001b[0m\n\u001b[1;32m    410\u001b[0m         \u001b[0;32mif\u001b[0m \u001b[0mnewline_indent\u001b[0m \u001b[0;32mis\u001b[0m \u001b[0;32mnot\u001b[0m \u001b[0mNone\u001b[0m\u001b[0;34m:\u001b[0m\u001b[0;34m\u001b[0m\u001b[0m\n",
        "\u001b[0;32m/usr/local/Cellar/python/2.7.6/Frameworks/Python.framework/Versions/2.7/lib/python2.7/json/encoder.pyc\u001b[0m in \u001b[0;36m_iterencode_dict\u001b[0;34m(dct, _current_indent_level)\u001b[0m\n\u001b[1;32m    406\u001b[0m                 \u001b[0;32melse\u001b[0m\u001b[0;34m:\u001b[0m\u001b[0;34m\u001b[0m\u001b[0m\n\u001b[1;32m    407\u001b[0m                     \u001b[0mchunks\u001b[0m \u001b[0;34m=\u001b[0m \u001b[0m_iterencode\u001b[0m\u001b[0;34m(\u001b[0m\u001b[0mvalue\u001b[0m\u001b[0;34m,\u001b[0m \u001b[0m_current_indent_level\u001b[0m\u001b[0;34m)\u001b[0m\u001b[0;34m\u001b[0m\u001b[0m\n\u001b[0;32m--> 408\u001b[0;31m                 \u001b[0;32mfor\u001b[0m \u001b[0mchunk\u001b[0m \u001b[0;32min\u001b[0m \u001b[0mchunks\u001b[0m\u001b[0;34m:\u001b[0m\u001b[0;34m\u001b[0m\u001b[0m\n\u001b[0m\u001b[1;32m    409\u001b[0m                     \u001b[0;32myield\u001b[0m \u001b[0mchunk\u001b[0m\u001b[0;34m\u001b[0m\u001b[0m\n\u001b[1;32m    410\u001b[0m         \u001b[0;32mif\u001b[0m \u001b[0mnewline_indent\u001b[0m \u001b[0;32mis\u001b[0m \u001b[0;32mnot\u001b[0m \u001b[0mNone\u001b[0m\u001b[0;34m:\u001b[0m\u001b[0;34m\u001b[0m\u001b[0m\n",
        "\u001b[0;32m/usr/local/Cellar/python/2.7.6/Frameworks/Python.framework/Versions/2.7/lib/python2.7/json/encoder.pyc\u001b[0m in \u001b[0;36m_iterencode_dict\u001b[0;34m(dct, _current_indent_level)\u001b[0m\n\u001b[1;32m    380\u001b[0m                 \u001b[0;32mcontinue\u001b[0m\u001b[0;34m\u001b[0m\u001b[0m\n\u001b[1;32m    381\u001b[0m             \u001b[0;32melse\u001b[0m\u001b[0;34m:\u001b[0m\u001b[0;34m\u001b[0m\u001b[0m\n\u001b[0;32m--> 382\u001b[0;31m                 \u001b[0;32mraise\u001b[0m \u001b[0mTypeError\u001b[0m\u001b[0;34m(\u001b[0m\u001b[0;34m\"key \"\u001b[0m \u001b[0;34m+\u001b[0m \u001b[0mrepr\u001b[0m\u001b[0;34m(\u001b[0m\u001b[0mkey\u001b[0m\u001b[0;34m)\u001b[0m \u001b[0;34m+\u001b[0m \u001b[0;34m\" is not a string\"\u001b[0m\u001b[0;34m)\u001b[0m\u001b[0;34m\u001b[0m\u001b[0m\n\u001b[0m\u001b[1;32m    383\u001b[0m             \u001b[0;32mif\u001b[0m \u001b[0mfirst\u001b[0m\u001b[0;34m:\u001b[0m\u001b[0;34m\u001b[0m\u001b[0m\n\u001b[1;32m    384\u001b[0m                 \u001b[0mfirst\u001b[0m \u001b[0;34m=\u001b[0m \u001b[0mFalse\u001b[0m\u001b[0;34m\u001b[0m\u001b[0m\n",
        "\u001b[0;31mTypeError\u001b[0m: key (3, 15) is not a string"
       ]
      }
     ],
     "prompt_number": 422
    },
    {
     "cell_type": "heading",
     "level": 1,
     "metadata": {},
     "source": [
      "Data By Zip By Hour\n"
     ]
    },
    {
     "cell_type": "code",
     "collapsed": false,
     "input": [
      "df_period_h = df.to_period('H')\n",
      "df_period_h.groupby([\"Incident Zip\", lambda x: x.hour])['Incident Zip'].value_counts()"
     ],
     "language": "python",
     "metadata": {},
     "outputs": [
      {
       "metadata": {},
       "output_type": "pyout",
       "prompt_number": 30,
       "text": [
        "Incident Zip           \n",
        "00083         12  00083    1\n",
        "              13  00083    4\n",
        "              14  00083    1\n",
        "02061         14  02061    1\n",
        "07020         17  07020    1\n",
        "07114         12  07114    1\n",
        "07201         21  07201    1\n",
        "07306         18  07306    1\n",
        "07604         9   07604    1\n",
        "08807         11  08807    1\n",
        "10000         10  10000    2\n",
        "              14  10000    1\n",
        "              15  10000    1\n",
        "              18  10000    1\n",
        "              22  10000    1\n",
        "...\n",
        "11735         14  11735    1\n",
        "11747         17  11747    1\n",
        "11776         11  11776    1\n",
        "              13  11776    1\n",
        "11788         10  11788    1\n",
        "14225         12  14225    1\n",
        "19711         7   19711    1\n",
        "23502         9   23502    1\n",
        "23541         16  23541    1\n",
        "41042         16  41042    1\n",
        "61702         18  61702    1\n",
        "70711         11  70711    1\n",
        "77056         16  77056    1\n",
        "90010         9   90010    1\n",
        "92123         13  92123    1\n",
        "Length: 3928, dtype: int64"
       ]
      }
     ],
     "prompt_number": 30
    }
   ],
   "metadata": {}
  }
 ]
}