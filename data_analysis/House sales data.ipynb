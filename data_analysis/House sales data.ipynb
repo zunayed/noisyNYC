{
 "cells": [
  {
   "cell_type": "code",
   "execution_count": 2,
   "metadata": {
    "collapsed": false
   },
   "outputs": [],
   "source": [
    "import pandas as pd"
   ]
  },
  {
   "cell_type": "code",
   "execution_count": 16,
   "metadata": {
    "collapsed": false
   },
   "outputs": [],
   "source": [
    "orig_data = pd.read_csv('rollingsales_brooklyn.csv')"
   ]
  },
  {
   "cell_type": "code",
   "execution_count": 111,
   "metadata": {
    "collapsed": false
   },
   "outputs": [],
   "source": [
    "orig_data['ZIP CODE'].unique()"
   ]
  },
  {
   "cell_type": "code",
   "execution_count": 114,
   "metadata": {
    "collapsed": false
   },
   "outputs": [
    {
     "name": "stderr",
     "output_type": "stream",
     "text": [
      "/Users/zunayed/.virtualenvs/data_analysis/lib/python2.7/site-packages/IPython/kernel/__main__.py:3: SettingWithCopyWarning: \n",
      "A value is trying to be set on a copy of a slice from a DataFrame.\n",
      "Try using .loc[row_indexer,col_indexer] = value instead\n",
      "\n",
      "See the the caveats in the documentation: http://pandas.pydata.org/pandas-docs/stable/indexing.html#indexing-view-versus-copy\n",
      "  app.launch_new_instance()\n",
      "/Users/zunayed/.virtualenvs/data_analysis/lib/python2.7/site-packages/IPython/kernel/__main__.py:4: SettingWithCopyWarning: \n",
      "A value is trying to be set on a copy of a slice from a DataFrame.\n",
      "Try using .loc[row_indexer,col_indexer] = value instead\n",
      "\n",
      "See the the caveats in the documentation: http://pandas.pydata.org/pandas-docs/stable/indexing.html#indexing-view-versus-copy\n",
      "/Users/zunayed/.virtualenvs/data_analysis/lib/python2.7/site-packages/IPython/kernel/__main__.py:5: SettingWithCopyWarning: \n",
      "A value is trying to be set on a copy of a slice from a DataFrame.\n",
      "Try using .loc[row_indexer,col_indexer] = value instead\n",
      "\n",
      "See the the caveats in the documentation: http://pandas.pydata.org/pandas-docs/stable/indexing.html#indexing-view-versus-copy\n"
     ]
    }
   ],
   "source": [
    "sliced_data = orig_data[['ZIP CODE', 'SALE PRICE']]\n",
    "\n",
    "sliced_data['SALE PRICE'] = sliced_data['SALE PRICE'].str.replace('$', '')\n",
    "sliced_data['SALE PRICE'] = sliced_data['SALE PRICE'].str.replace(',', '')\n",
    "sliced_data['SALE PRICE'] = sliced_data['SALE PRICE'].astype(int)\n",
    "\n",
    "sliced_data = sliced_data[sliced_data['ZIP CODE'] != 0]\n",
    "sliced_data = sliced_data[sliced_data['SALE PRICE'] != 0]"
   ]
  },
  {
   "cell_type": "code",
   "execution_count": 101,
   "metadata": {
    "collapsed": false
   },
   "outputs": [],
   "source": [
    "# Facepalm. I noticed a bunch of rows have no sales info and a few have no zipcode info. \n",
    "# Tax payer dollars doing some hard work right here\n",
    "# sliced_data[sliced_data['SALE PRICE'] == '0'].count(), sliced_data[sliced_data['ZIP CODE'] == 0].count()"
   ]
  },
  {
   "cell_type": "code",
   "execution_count": 124,
   "metadata": {
    "collapsed": false
   },
   "outputs": [
    {
     "data": {
      "text/plain": [
       "'{\"SALE PRICE\":{\"11239\":300000,\"11208\":503557,\"11236\":527928,\"11207\":544801,\"11234\":581830,\"11235\":641754,\"11209\":678063,\"11203\":731694,\"11230\":798106,\"11229\":824856,\"11214\":840379,\"11228\":852747,\"11221\":857358,\"11204\":867738,\"11223\":943217,\"11210\":961639,\"11219\":974470,\"11218\":978298,\"11220\":988537,\"11233\":990131,\"11213\":1041695,\"11224\":1083324,\"11216\":1191288,\"11227\":1200000,\"11205\":1423117,\"11232\":1494363,\"11237\":1583606,\"11215\":1602143,\"11238\":1608877,\"11201\":1646771,\"11212\":1694861,\"11225\":1830788,\"11226\":1841963,\"11222\":2125728,\"11231\":2177808,\"11206\":2285045,\"11211\":2458405,\"11217\":2490522,\"11249\":3095999}}'"
      ]
     },
     "execution_count": 124,
     "metadata": {},
     "output_type": "execute_result"
    }
   ],
   "source": [
    "sliced_data.groupby('ZIP CODE').mean().sort('SALE PRICE').to_json()"
   ]
  },
  {
   "cell_type": "code",
   "execution_count": 126,
   "metadata": {
    "collapsed": false
   },
   "outputs": [
    {
     "name": "stderr",
     "output_type": "stream",
     "text": [
      "/Users/zunayed/.virtualenvs/data_analysis/lib/python2.7/site-packages/IPython/kernel/__main__.py:7: SettingWithCopyWarning: \n",
      "A value is trying to be set on a copy of a slice from a DataFrame.\n",
      "Try using .loc[row_indexer,col_indexer] = value instead\n",
      "\n",
      "See the the caveats in the documentation: http://pandas.pydata.org/pandas-docs/stable/indexing.html#indexing-view-versus-copy\n",
      "/Users/zunayed/.virtualenvs/data_analysis/lib/python2.7/site-packages/IPython/kernel/__main__.py:8: SettingWithCopyWarning: \n",
      "A value is trying to be set on a copy of a slice from a DataFrame.\n",
      "Try using .loc[row_indexer,col_indexer] = value instead\n",
      "\n",
      "See the the caveats in the documentation: http://pandas.pydata.org/pandas-docs/stable/indexing.html#indexing-view-versus-copy\n",
      "/Users/zunayed/.virtualenvs/data_analysis/lib/python2.7/site-packages/IPython/kernel/__main__.py:9: SettingWithCopyWarning: \n",
      "A value is trying to be set on a copy of a slice from a DataFrame.\n",
      "Try using .loc[row_indexer,col_indexer] = value instead\n",
      "\n",
      "See the the caveats in the documentation: http://pandas.pydata.org/pandas-docs/stable/indexing.html#indexing-view-versus-copy\n"
     ]
    },
    {
     "name": "stdout",
     "output_type": "stream",
     "text": [
      "{\"SALE PRICE\":{\"11239\":300000,\"11208\":503557,\"11236\":527928,\"11207\":544801,\"11234\":581830,\"11235\":641754,\"11209\":678063,\"11203\":731694,\"11230\":798106,\"11229\":824856,\"11214\":840379,\"11228\":852747,\"11221\":857358,\"11204\":867738,\"11223\":943217,\"11210\":961639,\"11219\":974470,\"11218\":978298,\"11220\":988537,\"11233\":990131,\"11213\":1041695,\"11224\":1083324,\"11216\":1191288,\"11227\":1200000,\"11205\":1423117,\"11232\":1494363,\"11237\":1583606,\"11215\":1602143,\"11238\":1608877,\"11201\":1646771,\"11212\":1694861,\"11225\":1830788,\"11226\":1841963,\"11222\":2125728,\"11231\":2177808,\"11206\":2285045,\"11211\":2458405,\"11217\":2490522,\"11249\":3095999}}\n",
      "{\"SALE PRICE\":{\"11693\":239633,\"11414\":345251,\"11415\":347473,\"11004\":349980,\"11412\":362403,\"11429\":363818,\"11040\":395632,\"11422\":410746,\"11420\":413430,\"11372\":415511,\"11413\":415904,\"11434\":418091,\"11411\":420907,\"11427\":423016,\"11426\":442724,\"11419\":446922,\"11417\":449060,\"11433\":456958,\"11374\":459312,\"11421\":460427,\"11416\":472075,\"11001\":489641,\"11360\":490503,\"11428\":492949,\"11364\":499978,\"11692\":507946,\"11436\":511476,\"11369\":517024,\"11694\":534335,\"11355\":540663,\"11362\":543987,\"11691\":558820,\"11357\":562206,\"11375\":569431,\"11435\":574355,\"11005\":592509,\"11418\":613753,\"11423\":617407,\"11365\":619640,\"11379\":628935,\"11356\":636741,\"11370\":643561,\"11363\":654327,\"11432\":692039,\"11377\":692867,\"11368\":694582,\"11361\":712681,\"11109\":718987,\"11373\":740732,\"11367\":840649,\"11378\":852922,\"11358\":866533,\"11385\":928539,\"11104\":960033,\"11103\":1058754,\"11354\":1061923,\"11105\":1380747,\"11366\":1386617,\"11106\":1681836,\"11102\":2645035,\"11101\":5376394}}\n"
     ]
    }
   ],
   "source": [
    "files = ['rollingsales_brooklyn.csv', 'rollingsales_queens.csv']\n",
    "\n",
    "for file in files:\n",
    "    orig_data = pd.read_csv(file)\n",
    "    sliced_data = orig_data[['ZIP CODE', 'SALE PRICE']]\n",
    "\n",
    "    sliced_data['SALE PRICE'] = sliced_data['SALE PRICE'].str.replace('$', '')\n",
    "    sliced_data['SALE PRICE'] = sliced_data['SALE PRICE'].str.replace(',', '')\n",
    "    sliced_data['SALE PRICE'] = sliced_data['SALE PRICE'].astype(int)\n",
    "\n",
    "    sliced_data = sliced_data[sliced_data['ZIP CODE'] != 0]\n",
    "    sliced_data = sliced_data[sliced_data['SALE PRICE'] != 0]\n",
    "    print sliced_data.groupby('ZIP CODE').mean().sort('SALE PRICE').to_json()"
   ]
  },
  {
   "cell_type": "code",
   "execution_count": null,
   "metadata": {
    "collapsed": true
   },
   "outputs": [],
   "source": []
  }
 ],
 "metadata": {
  "kernelspec": {
   "display_name": "Python 2",
   "language": "python",
   "name": "python2"
  },
  "language_info": {
   "codemirror_mode": {
    "name": "ipython",
    "version": 2
   },
   "file_extension": ".py",
   "mimetype": "text/x-python",
   "name": "python",
   "nbconvert_exporter": "python",
   "pygments_lexer": "ipython2",
   "version": "2.7.10"
  }
 },
 "nbformat": 4,
 "nbformat_minor": 0
}
